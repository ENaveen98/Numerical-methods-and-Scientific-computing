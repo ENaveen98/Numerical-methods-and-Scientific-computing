{
 "cells": [
  {
   "cell_type": "markdown",
   "metadata": {},
   "source": [
    "# Numerical Methods in Scientific Computing\n",
    "# Assignment 6\n",
    "## E Naveen\n",
    "## (ME16B077)"
   ]
  },
  {
   "cell_type": "markdown",
   "metadata": {},
   "source": [
    "# Q1.\n",
    "\n",
    "The Fredholm Integral equation is given by,\n",
    "\\begin{equation}\n",
    "    f(x) = \\phi (x) + \\int_a^b K_s(x,t) \\phi (t)dt\n",
    "\\end{equation}\n",
    "\n",
    "One method for solving the above equation numerically is to write the integral on the RHS using any of the Quadrature methods discussed. \n",
    "Choosing Gaussian-Legendre Quadrature for this method we have,\n",
    "\\begin{equation}\n",
    "    \\int_a^b K(x,t) \\phi (t)dt = \\frac{b-a}{2}\\int_{-1}^1 K_s(x,s) \\phi_s(s)ds = \\frac{b-a}{2}\\sum_{i=0}^{n} w_i K_s(x,s_i) \\phi_s(s_i)\n",
    "\\end{equation}\n",
    "where\n",
    "$$ s = \\frac{2t - (a+b)}{b-a} $$\n",
    "and $K(x,t)$ and $\\phi(t)$ are changed to $K_s(x,s)$ and $\\phi_s(s)$ after change of variable t into s.\n",
    "\n",
    "So, for $x=x_0,x_1,...,x_n$ and $s=s_0,s_1,...,s_n$ (s are gauss-legendre nodes) we have\n",
    "\\begin{equation}\n",
    "    f(x_i) = \\phi_s(s_i) + \\frac{b-a}{2}\\sum_{j=0}^{n} w_j K_s(x_i,s_j) \\phi_s(s_j)\n",
    "\\end{equation}\n",
    "with $$ x_i = \\frac{s_i(b-a)+(a+b)}{2} $$\n",
    "Thus we have n+1 equations with n+1 unknowns. We can solve this as Linear system of equations.\n",
    "\n",
    "$$ A= \\frac{b-a}{2}\\left(\\begin{matrix}w_0K_s(x_0,s_0)&w_1K_s(x_0,s_1)&w_2K_s(x_0,s_2).&.&.&w_{n-1}K_s(x_{0},s_{n-1})&w_nK_s(x_0,s_n)\\\\w_0K_s(x_1,s_0)&w_1K_s(x_1,s_1)&w_2K_s(x_1,s_2).&.&.&w_{n-1}K_s(x_{1},s_{n-1})&w_nK_s(x_1,s_n)\n",
    "\\\\.&.&w_2K_s(x_2,s_2).&.&.&.&.\n",
    "\\\\.&.&.&.&.&.&.\n",
    "\\\\.&.&.&.&.&w_{n-1}K_s(x_{n-1},s_{n-1})&w_nK_s(x_{n-1},s_n)\\\\w_0K_s(x_n,s_0)&.&.&.&.&w_{n-1}K_s(x_{n},s_{n-1})&w_nK_s(x_n,s_n)\\end{matrix}\\right) + \\left(\\begin{matrix}1&.&.&.&.&.&.&.\\\\.&1&.&.&.&.&.&.\\\\.&.&.&.&.&.&.&.\\\\.&.&.&.&.&.&.&.\\\\.&.&.&.&.&.&1&.\\\\.&.&.&.&.&.&.&1\\end{matrix}\\right) $$\n",
    "\n",
    "$$ \\phi = \\left(\\begin{matrix}\\phi_s(s_0)\\\\\\phi_s(s_1)\\\\.\\\\.\\\\\\phi_s(s_{n-1})\\\\\\phi_s(s_n)\\end{matrix}\\right) $$\n",
    "\n",
    "$$ f = \\left(\\begin{matrix}f(x_0)\\\\f(x_1)\\\\.\\\\.\\\\f(x_{n-1})\\\\f(x_n)\\end{matrix}\\right) $$\n",
    "\n",
    "$$ \\left(\\frac{b-a}{2}\\left(\\begin{matrix}w_0K_s(x_0,s_0)&w_1K_s(x_0,s_1)&w_2K_s(x_0,s_2).&.&.&w_{n-1}K_s(x_{0},s_{n-1})&w_nK_s(x_0,s_n)\\\\w_0K_s(x_1,s_0)&w_1K_s(x_1,s_1)&w_2K_s(x_1,s_2).&.&.&w_{n-1}K_s(x_{1},s_{n-1})&w_nK_s(x_1,s_n)\n",
    "\\\\.&.&w_2K_s(x_2,s_2).&.&.&.&.\n",
    "\\\\.&.&.&.&.&.&.\n",
    "\\\\.&.&.&.&.&w_{n-1}K_s(x_{n-1},s_{n-1})&w_nK_s(x_{n-1},s_n)\\\\w_0K_s(x_n,s_0)&.&.&.&.&w_{n-1}K_s(x_{n},s_{n-1})&w_nK_s(x_n,s_n)\\end{matrix}\\right) + I\\right) \\left(\\begin{matrix}\\phi_s(s_0)\\\\\\phi_s(s_1)\\\\.\\\\.\\\\\\phi_s(s_{n-1})\\\\\\phi_s(s_n)\\end{matrix}\\right) = \\left(\\begin{matrix}f(x_0)\\\\f(x_1)\\\\.\\\\.\\\\f(x_{n-1})\\\\f(x_n)\\end{matrix}\\right) $$\n",
    "\n",
    "$$ A\\phi = f \\Rightarrow \\phi = A^{-1}f$$"
   ]
  },
  {
   "cell_type": "markdown",
   "metadata": {},
   "source": [
    "For the following equation,\n",
    "\n",
    "\\begin{equation}\n",
    "    \\phi(x) = \\pi x^2 + \\int_0^{\\pi} 3(0.5sin(3x)-tx^2)\\phi(t)dt \\Rightarrow \\phi(x) + \\int_0^{\\pi} 3(tx^2-0.5sin(3x))\\phi(t)dt= \\pi x^2\n",
    "\\end{equation}\n",
    "\n",
    "Hence we have,\n",
    "\\begin{equation}\n",
    "    K(x,t) = 3(tx^2-0.5sin(3x)) ;\\quad s = \\frac{2t - (a+b)}{b-a}=\\frac{2t-\\pi}{\\pi} ;\\quad t = \\frac{s(b-a)+(a+b)}{2} = \\frac{\\pi(1+s)}{2} = x\n",
    "\\end{equation}\n",
    "\n",
    "With $a=0$ and $b=\\pi$\n",
    "\\begin{equation}\n",
    "    \\Rightarrow K_s(x,s) = 3(\\frac{\\pi(1+s)}{2}x^2-0.5sin(3x)) \\quad; \\quad f(x) = \\pi x^2\n",
    "\\end{equation}\n",
    "\n",
    "The exact solution is obtained by substituting $\\phi(t)=sin(kt)$ and evaluating $\\phi(x) = \\pi x^2 + \\int_0^{\\pi} 3(0.5sin(3x)-tx^2)\\phi(t)dt$ which is given by,\n",
    "\n",
    "\\begin{equation}\n",
    "    \\phi(x) = (-3x^2(sin(\\pi k) - \\pi kcos(\\pi k)) - 1.5 k (cos(\\pi k) - 1) sin(3 x))/k^2 + \\pi x^2 =sin(kx)\n",
    "\\end{equation}\n",
    "\n",
    "The above equation can be solved by equating,\n",
    "\n",
    "\\begin{equation}\n",
    "    \\frac{3x^2\\pi cos(\\pi k)}{k} = -\\pi x^2 \\Rightarrow k=3\n",
    "\\end{equation}\n",
    "\n",
    "Hence exact solution is,\n",
    "\\begin{equation}\n",
    "    \\phi(x) = sin(3x)\n",
    "\\end{equation}"
   ]
  },
  {
   "cell_type": "code",
   "execution_count": 1,
   "metadata": {},
   "outputs": [],
   "source": [
    "import numpy as np\n",
    "import matplotlib.pyplot as plt\n",
    "import time"
   ]
  },
  {
   "cell_type": "code",
   "execution_count": 14,
   "metadata": {},
   "outputs": [],
   "source": [
    "# Function to return K(x,s) as defined above.\n",
    "def ret_K_x_s(x,s):\n",
    "    K = 3*(((np.pi*(1+s)/2)*x**2) - 0.5*np.sin(3*x))\n",
    "    return K\n",
    "\n",
    "# Function to calculate the required function phi.\n",
    "def calc_phi(n):\n",
    "    h = 2/n\n",
    "    S, W = np.polynomial.legendre.leggauss(n+1)\n",
    "    X = (S+1)*np.pi/2\n",
    "    A = np.identity(n+1)\n",
    "    for i in range(n+1):\n",
    "        for j in range(n+1):\n",
    "            A[i, j] = A[i, j] + W[j]*ret_K_x_s(X[i],S[j])*np.pi/2\n",
    "    F = np.zeros((n+1,1))\n",
    "    for i in range(n+1):\n",
    "        F[i] = np.pi*X[i]**2\n",
    "    phi = np.dot(np.linalg.inv(A), F)\n",
    "    return X, phi"
   ]
  },
  {
   "cell_type": "code",
   "execution_count": 15,
   "metadata": {
    "scrolled": false
   },
   "outputs": [
    {
     "data": {
      "image/png": "[encoded data removed]",
      "text/plain": [
       "<Figure size 576x432 with 1 Axes>"
      ]
     },
     "metadata": {
      "needs_background": "light"
     },
     "output_type": "display_data"
    }
   ],
   "source": [
    "# Call the function for n=100\n",
    "X, phi = calc_phi(100)\n",
    "\n",
    "# Plot the numerical and exact solution to phi.\n",
    "plt.rcParams[\"figure.figsize\"] = [8,6]\n",
    "plt.plot(X,phi,color='b', label='numerical solution')\n",
    "plt.plot(X,np.sin(3*X), marker='x',color='r', label='Exact solution', linestyle=' ')\n",
    "plt.legend()\n",
    "plt.grid()\n",
    "plt.xlabel('x')\n",
    "plt.ylabel('phi')\n",
    "plt.title('Numerical vs Exact Solution for Fredholm integral equation')\n",
    "plt.show()"
   ]
  },
  {
   "cell_type": "code",
   "execution_count": 17,
   "metadata": {
    "scrolled": false
   },
   "outputs": [
    {
     "data": {
      "image/png": "[encoded data removed]",
      "text/plain": [
       "<Figure size 576x432 with 1 Axes>"
      ]
     },
     "metadata": {
      "needs_background": "light"
     },
     "output_type": "display_data"
    }
   ],
   "source": [
    "# Plot the error as a function of number of nodes.\n",
    "N = np.linspace(5,400,20)\n",
    "Error = []\n",
    "for n in N:\n",
    "    X, phi = calc_phi(int(n))\n",
    "    phi = [float(x) for x in phi]\n",
    "    phi_exact = np.sin(3*X)\n",
    "    phi_exact = [float(x) for x in phi_exact]\n",
    "    Error.append(np.mean(np.abs(np.subtract(phi,phi_exact))))\n",
    "    \n",
    "plt.rcParams[\"figure.figsize\"] = [8,6]\n",
    "plt.loglog(N,Error,color='b', label='Max Absolute Error')\n",
    "plt.legend()\n",
    "plt.grid()\n",
    "plt.xlabel('N')\n",
    "plt.ylabel('error')\n",
    "plt.title('Infinity Norm Error')\n",
    "plt.show()"
   ]
  },
  {
   "cell_type": "markdown",
   "metadata": {},
   "source": [
    "- The numerical method is very accurate when comparing with the exact solution even for small values of n.\n",
    "- Initially the rate of convergence to the actual solution as seen using infinity norm error is very steep for n from 5 to 15 beyond which the solution is accurate to machine precision."
   ]
  },
  {
   "cell_type": "markdown",
   "metadata": {},
   "source": [
    "# Q2."
   ]
  },
  {
   "cell_type": "code",
   "execution_count": 5,
   "metadata": {},
   "outputs": [],
   "source": [
    "# Return function value when in terms of x\n",
    "def f_x(x):\n",
    "    f = np.exp(-x)/x**0.5\n",
    "    return f\n",
    "\n",
    "# Return function value when in terms of t\n",
    "def f_t(t):\n",
    "    f = 2*np.exp(-t**2)\n",
    "    return f\n",
    "\n",
    "# Rectangular rule in terms of x.\n",
    "def rect_rule_x(n):\n",
    "    h = 1/n\n",
    "    X = np.linspace(0,1,n+1)\n",
    "    Y = [(X[i]+X[i+1])/2 for i in range(n)]\n",
    "    F_x = [f_x(Y[i]) for i in range(n)]\n",
    "    I_x = h*sum(F_x)\n",
    "    return I_x\n",
    "\n",
    "# Rectangular rule in terms of t.\n",
    "def rect_rule_t(n):\n",
    "    h = 1/n\n",
    "    X = np.linspace(0,1,n+1)\n",
    "    Y = [(X[i]+X[i+1])/2 for i in range(n)]\n",
    "    F_t = [f_t(Y[i]) for i in range(n)]\n",
    "    I_t = h*sum(F_t)\n",
    "    return I_t"
   ]
  },
  {
   "cell_type": "code",
   "execution_count": 13,
   "metadata": {},
   "outputs": [
    {
     "name": "stdout",
     "output_type": "stream",
     "text": [
      "The average time to run function to find both types of Integrals are:\n",
      "Using x = 0.008523984388871626\n",
      "Using t = 0.007100257006558505\n"
     ]
    },
    {
     "data": {
      "image/png": "[encoded data removed]",
      "text/plain": [
       "<Figure size 360x288 with 1 Axes>"
      ]
     },
     "metadata": {
      "needs_background": "light"
     },
     "output_type": "display_data"
    }
   ],
   "source": [
    "# Defined values for n.\n",
    "N = [5,10,20,50,100,200,500,1000,2000,5000,10000]\n",
    "\n",
    "# Store the integral value obtained from wolfram alhpa.\n",
    "accurate_I = 1.493648265624854050798934872263706010708999373625212658055\n",
    "accurate_I = [accurate_I for _ in range(len(N))]\n",
    "\n",
    "# Initialize parameters to store the results.\n",
    "x_I = []\n",
    "x_time = []\n",
    "x_error = []\n",
    "t_I = []\n",
    "t_time = []\n",
    "t_error = []\n",
    "for n in N:\n",
    "    \n",
    "    start = time.time()\n",
    "    I = rect_rule_x(n)\n",
    "    end = time.time()\n",
    "    x_I.append(I)\n",
    "    x_time.append(end-start)\n",
    "    \n",
    "    start = time.time()\n",
    "    I = rect_rule_t(n)\n",
    "    end = time.time()\n",
    "    t_I.append(I)\n",
    "    t_time.append(end-start)\n",
    "    \n",
    "    x_error.append(abs(rect_rule_x(n)-accurate_I[0]))\n",
    "    t_error.append(abs(rect_rule_t(n)-accurate_I[0]))\n",
    "    \n",
    "print(\"The average time to run function to find both types of Integrals are:\")\n",
    "print(\"Using x =\", abs(np.mean(x_time)))\n",
    "print(\"Using t =\", abs(np.mean(t_time)))\n",
    "\n",
    "# Plot the absolute error in log-log plot as a function of n.\n",
    "plt.rcParams[\"figure.figsize\"] = [5,4]\n",
    "plt.loglog(N, x_error, color='r', label='using x')\n",
    "plt.loglog(N, t_error, color='b', label='using t')\n",
    "plt.legend()\n",
    "plt.grid()\n",
    "plt.xlabel('n')\n",
    "plt.ylabel('Error')\n",
    "plt.title('Absolute Error vs n in log-log plot')\n",
    "plt.show()"
   ]
  },
  {
   "cell_type": "markdown",
   "metadata": {},
   "source": [
    "- The Integral obtained using Rectangular rule after making a change of variable to 't' is way more accurate than with 'x'.\n",
    "- The Slope in log-log plot of error vs number of intervals using 'x' is 0.5 whereas that for 't' is 2, signifying multiple orders accurate than with just using 'x'.\n",
    "- On average the cost of computation is more for integrating $\\frac{e^{-x}}{\\sqrt{x}}$ than $e^{-t^2}$ owing to the requirement of performing a square root and division operation which requires more effort and done using newton raphson method."
   ]
  },
  {
   "cell_type": "markdown",
   "metadata": {},
   "source": [
    "# Q3.\n",
    "\n",
    "It is given that f(x) is d+1 times continuously differentiable function. The Householder's method is given by,\n",
    "\\begin{equation}\n",
    "    x_{n+1} = x_n + d\\frac{(1/f)^{d-1}(x_n)}{(1/f)^d(x_n)}\n",
    "\\end{equation}\n",
    "\n",
    "If the sequence of iterates converge to a root a, we know $f(a) = 0$. Then near $x = a$ the function $(1/f)(x)$ has a singularity or is called a meromorphic function.\n",
    "\n",
    "Writing the Taylor Series expansion for $(1/f)(x)$,\n",
    "\n",
    "\\begin{equation}\n",
    "    (1/f)(x) = \\sum_{d=0}^{\\infty} \\frac{(1/f)^{(d)}(b)}{d!} (x-b)^d\n",
    "\\end{equation}\n",
    "\n",
    "Konig's theorem states that given a meromorphic function as defined above with infinite terms, the limit beow as $d\\rightarrow \\infty$ is\n",
    "\\begin{equation}\n",
    "    \\lim_{d\\rightarrow\\infty} \\frac{\\frac{(1/f)^{(d-1)}(b)}{(d-1)!}}{\\frac{(1/f)^{(d)}(b)}{d!}} = \\lim_{d\\rightarrow\\infty} d\\frac{(1/f)^{(d-1)}(b)}{(1/f)^{(d)}(b)} = a-b\n",
    "\\end{equation}\n",
    "\n",
    "where a-b is the error. Hence for any d, by the power of the error term (b-a) in the Taylor series expansion containing the $d^{th}$ derivative, we have\n",
    "\\begin{equation}\n",
    "    |x_{n+1}-a| \\leq K|x_n-a|^{d+1}\n",
    "\\end{equation}\n"
   ]
  },
  {
   "attachments": {},
   "cell_type": "markdown",
   "metadata": {},
   "source": [
    "# Q4.\n",
    "\n",
    "As the function is strictly convex, twice differentiable and with single simple root its first derivative must either be such that $f^{\\prime}(x) \\gt 0 \\text{ } \\forall x$ or $f^{\\prime}(x) \\lt 0 \\text{ } \\forall x$. Which also tells that the function value has opposite signs on all values of x on either side of the root (x=a).\n",
    "\n",
    "Case 1: $f^{\\prime}(x) \\gt 0$,\n",
    "- When the initial guess is to the left of root (x<a), \n",
    "    - f(x) < f(a) making f(x) negative as f(a) = 0 \n",
    "    - This leads to the term $-\\frac{f(x_n)}{f^{\\prime}(x_n)}$ being positive and hence $x_{n+1} \\gt x_n$ making the next iteration move towards to the root.\n",
    "- Similarly, when the initial guess is to the right of root (x>a), \n",
    "    - f(x) is positive and this leads to the term $-\\frac{f(x_n)}{f^{\\prime}(x_n)}$ being negative and hence $x_{n+1} \\lt x_n$ making the next iteration move towards to the root as well.\n",
    "\n",
    "Case 2: $f^{\\prime}(x) \\lt 0$,\n",
    "- When the initial guess is to the left of root (x<a), \n",
    "    - f(x) > f(a) making f(x) positive as f(a) = 0 \n",
    "    - This leads to the term $-\\frac{f(x_n)}{f^{\\prime}(x_n)}$ being positive and hence $x_{n+1} \\gt x_n$ making the next iteration move towards to the root.\n",
    "- Similarly, when the initial guess is to the right of root (x>a), \n",
    "    - f(x) is negative and this leads to the term $-\\frac{f(x_n)}{f^{\\prime}(x_n)}$ being negative and hence $x_{n+1} \\lt x_n$ making the next iteration move towards to the root as well.\n",
    "\n",
    "When the initial guess is infact the root, regardless of the case, the subsequent iterations have no change in value of x as f(x)=0.\n",
    "\n",
    "Hence the Newton method converges to the root irrespective of the initial guess."
   ]
  },
  {
   "cell_type": "markdown",
   "metadata": {},
   "source": [
    "# Q5.\n",
    "\n",
    "To show $w(x) = xe^{x} - a$ has only one real root for $a\\gt0$.\n",
    "\n",
    "It can be said that when $a\\gt0$ the root, say x*, should also be $\\gt0$. The derivative of $w(x)$ is given by,\n",
    "\n",
    "\\begin{equation}\n",
    "    w^{\\prime}(x) = (x+1)e^x \\gt 0 \\quad \\forall x \\gt 0\n",
    "\\end{equation}\n",
    "\n",
    "Since $w^{\\prime}(x) \\gt 0$ the function $w(x)$ is monotonically increasing for $x \\gt 0$. Moreover we know,\n",
    "\n",
    "\\begin{equation}\n",
    "    w(0) = -a \\lt 0 \\quad and \\quad w(a) = a(e^a-1) \\gt 0\n",
    "\\end{equation}\n",
    "\n",
    "So the root lies in the real interval [0,a] and since the function is monotonically increasing it has only one real root. \n"
   ]
  },
  {
   "cell_type": "code",
   "execution_count": 18,
   "metadata": {},
   "outputs": [],
   "source": [
    "def f_x(x, a):\n",
    "    f = x*np.exp(x) - a\n",
    "    return f\n",
    "    \n",
    "def f_prime_x(x):\n",
    "    f_prime = (x+1)*np.exp(x)\n",
    "    return f_prime\n",
    "\n",
    "def Bisect(a, x1, x2, tol_x = 10**-3, tol_y = 10**-3):\n",
    "    iterations = 0\n",
    "    while True:\n",
    "        iterations += 1\n",
    "        if np.abs(x2-x1) < tol_x and np.abs(f_x(x1, a)-f_x(x2, a)) < tol_y: break\n",
    "        x_new = (x1+x2)/2\n",
    "        if f_x(x_new, a)*f_x(x2, a) <= 0:\n",
    "            x1 = x_new\n",
    "        elif f_x(x_new, a)*f_x(x1, a) <= 0:\n",
    "            x2 = x_new\n",
    "        else:\n",
    "            break\n",
    "    return [x1, x2], iterations\n",
    "\n",
    "def Newton(a, x1, x2, tol_x = 10**-3, tol_y = 10**-3):\n",
    "    x_old = (x1+x2)/2\n",
    "    iterations = 0\n",
    "    while True:\n",
    "        iterations += 1\n",
    "        x_new = x_old - (f_x(x_old, a)/f_prime_x(x_old))\n",
    "        if np.abs(x_new-x_old) < tol_x and np.abs(f_x(x_new, a)-f_x(x_old, a)) < tol_y: break\n",
    "        x_old = x_new\n",
    "    if x_new >= x_old: range_x = [x_old, x_new]\n",
    "    else: range_x = [x_new, x_old]\n",
    "    return range_x, iterations\n",
    "\n",
    "def Secant(a, x1, x2, tol_x = 10**-3, tol_y = 10**-3):\n",
    "    x_n_1 = x1 + 0.75*(x2-x1)\n",
    "    x_n_2 = x1 + 0.25*(x2-x1)\n",
    "    iterations = 0\n",
    "    while True:\n",
    "        iterations += 1\n",
    "        x_n = x_n_1 - f_x(x_n_1, a)*(x_n_1 - x_n_2)/(f_x(x_n_1, a) - f_x(x_n_2, a))\n",
    "        if np.abs(x_n-x_n_1) < tol_x and np.abs(f_x(x_n, a)-f_x(x_n_1, a)) < tol_y: break\n",
    "        x_n_2 = x_n_1\n",
    "        x_n_1 = x_n\n",
    "    if x_n >= x_n_1: range_x = [x_n_1, x_n]\n",
    "    else: range_x = [x_n, x_n_1]\n",
    "    return range_x, iterations"
   ]
  },
  {
   "cell_type": "code",
   "execution_count": 19,
   "metadata": {
    "scrolled": false
   },
   "outputs": [
    {
     "name": "stdout",
     "output_type": "stream",
     "text": [
      "a = 0.0001\n",
      "Bisect Method: \t Range = [9.375e-05, 0.0001] \t Iterations = 5\n",
      "Newton Method: \t Range = [9.999e-05, 9.99925e-05] \t Iterations = 2\n",
      "Secant Method: \t Range = [9.999e-05, 9.99919e-05] \t Iterations = 2\n",
      "---------------------------------------------------------------------------\n",
      "a = 0.00040842386526745213\n",
      "Bisect Method: \t Range = [0.0004020422, 0.0004084239] \t Iterations = 7\n",
      "Newton Method: \t Range = [0.0004082572, 0.0004082988] \t Iterations = 2\n",
      "Secant Method: \t Range = [0.0004082572, 0.0004082884] \t Iterations = 2\n",
      "---------------------------------------------------------------------------\n",
      "a = 0.0016681005372000592\n",
      "Bisect Method: \t Range = [0.0016615845, 0.0016681005] \t Iterations = 9\n",
      "Newton Method: \t Range = [0.0016653249, 0.0016660159] \t Iterations = 2\n",
      "Secant Method: \t Range = [0.0016653247, 0.001665842] \t Iterations = 2\n",
      "---------------------------------------------------------------------------\n",
      "a = 0.006812920690579615\n",
      "Bisect Method: \t Range = [0.006766348, 0.0067730012] \t Iterations = 11\n",
      "Newton Method: \t Range = [0.0067669735, 0.0067669736] \t Iterations = 3\n",
      "Secant Method: \t Range = [0.0067669596, 0.0067753654] \t Iterations = 2\n",
      "---------------------------------------------------------------------------\n",
      "a = 0.02782559402207126\n",
      "Bisect Method: \t Range = [0.0270783247, 0.027085118] \t Iterations = 13\n",
      "Newton Method: \t Range = [0.0270821304, 0.02708216] \t Iterations = 3\n",
      "Secant Method: \t Range = [0.0270813617, 0.0270821303] \t Iterations = 3\n",
      "---------------------------------------------------------------------------\n",
      "a = 0.11364636663857254\n",
      "Bisect Method: \t Range = [0.1025619615, 0.1025688979] \t Iterations = 15\n",
      "Newton Method: \t Range = [0.1025677755, 0.1025719053] \t Iterations = 3\n",
      "Secant Method: \t Range = [0.1025677495, 0.1025677755] \t Iterations = 4\n",
      "---------------------------------------------------------------------------\n",
      "a = 0.4641588833612782\n",
      "Bisect Method: \t Range = [0.3327678384, 0.3327713796] \t Iterations = 18\n",
      "Newton Method: \t Range = [0.3327713368, 0.3327713425] \t Iterations = 4\n",
      "Secant Method: \t Range = [0.3327713368, 0.3327714532] \t Iterations = 4\n",
      "---------------------------------------------------------------------------\n",
      "a = 1.8957356524063793\n",
      "Bisect Method: \t Range = [0.828156774, 0.828158582] \t Iterations = 21\n",
      "Newton Method: \t Range = [0.8281581322, 0.8281581373] \t Iterations = 4\n",
      "Secant Method: \t Range = [0.8281565661, 0.8281581326] \t Iterations = 6\n",
      "---------------------------------------------------------------------------\n",
      "a = 7.742636826811277\n",
      "Bisect Method: \t Range = [1.5857096343, 1.5857100958] \t Iterations = 25\n",
      "Newton Method: \t Range = [1.5857100296, 1.5857100297] \t Iterations = 8\n",
      "Secant Method: \t Range = [1.5857100296, 1.5857100318] \t Iterations = 8\n",
      "---------------------------------------------------------------------------\n",
      "a = 31.622776601683793\n",
      "Bisect Method: \t Range = [2.5268887514, 2.5268888692] \t Iterations = 29\n",
      "Newton Method: \t Range = [2.526888812, 2.5268888121] \t Iterations = 20\n",
      "Secant Method: \t Range = [2.526888812, 2.5268888506] \t Iterations = 17\n",
      "---------------------------------------------------------------------------\n"
     ]
    }
   ],
   "source": [
    "A = np.logspace(-4, 1.5, 10)\n",
    "\n",
    "for a in A:\n",
    "    print('a =', a)\n",
    "    range_x, iterations = Bisect(a, x1=0, x2=a, tol_x = 10**-5, tol_y = 10**-5)\n",
    "    print('Bisect Method: \\t Range =', [np.around(x, 10) for x in range_x], '\\t Iterations =', iterations)\n",
    "    range_x, iterations = Newton(a, x1=0, x2=a, tol_x = 10**-5, tol_y = 10**-5)\n",
    "    print('Newton Method: \\t Range =', [np.around(x, 10) for x in range_x], '\\t Iterations =', iterations)\n",
    "    range_x, iterations = Secant(a, x1=0, x2=a, tol_x = 10**-5, tol_y = 10**-5)\n",
    "    print('Secant Method: \\t Range =', [np.around(x, 10) for x in range_x], '\\t Iterations =', iterations)\n",
    "    print('-'*75)"
   ]
  },
  {
   "cell_type": "markdown",
   "metadata": {},
   "source": [
    "#### Criteria for Convergence\n",
    "\n",
    "- Bisection Method\n",
    "\n",
    "    - When the guess for intial interval lies in range [0, a] (as derived earlier the root lies in [0,a]) the Bisection method always converges to a specified tolerance. In fact when the initial guess is any interval containing [0, a] the Bisection method converges.\n",
    "    \n",
    "    - This is because we know that only one real root is present and $w(x) \\geq 0$ for all $x \\geq root$ and $w(x) \\leq 0$ for all $x \\leq root$. Thus the function value at extreme points of the interval are of opposite sign. This ensures that we always eliminate the interval not containing the root when bisecting and thus always  keep the interval containing root while at the same time shrinking it to half at each iteration.\n",
    "\n",
    "\n",
    "- Newton Method\n",
    "\n",
    "    - When the initial guess is any point $ x_0 \\gt -1$ the method always converges. This is due to the fact that at $x=-1$ the first derivative $f^{\\prime}(x=-1)=0$ and $\\forall x \\lt -1 \\quad f^{\\prime}(x) < 0$. THis causes the iterations to diverge as both $f(x)$ and $f^{\\prime}(x)$ are negative.\n",
    "\n",
    "\n",
    "- Secant Method\n",
    "\n",
    "    - Similar to the Newton method the condition is that the first 2 initial points ($x_0 \\& x_1$) that we consider should both be $\\gt -1$. Definitely both points should not be $ \\leq -1$. \n",
    "    \n",
    "    - Intuitively it is because this method tries to aprroximate the first derivative using 2 points on either side and if both of them are less than -1 the approximation resembles for a point less than -1. If say $x_0$ is towards the left of -1 the convergence might not be guaranteed as it depends on the values that functions take on subsequent iterations."
   ]
  },
  {
   "cell_type": "markdown",
   "metadata": {},
   "source": [
    "#### When $a<0$\n",
    "\n",
    "Equating the first derivative of the function to 0,\n",
    "\\begin{equation}\n",
    "    w^{\\prime}(x) = (x+1)e^x = 0 \\quad  \\Rightarrow x = -1\n",
    "\\end{equation}\n",
    "\n",
    "The second derivative at x = -1 is,\n",
    "\\begin{equation}\n",
    "    w^{\\prime\\prime}(x=-1) = (x+2)e^x|_{x=-1} = e^{-1} \\gt 0\n",
    "\\end{equation}\n",
    "\n",
    "\n",
    "So the function $w(x)$ reaches the minimum value at $x=-1$ and as $a<0$, the plot of function will be tangent to the x-axis at \n",
    "$$a_0 = xe^x|_{x=-1} = -e^{-1}$$\n",
    "\n",
    "Hence, given $a < 0$, for all values of $a > a_0$ there will be 2 roots and for all values of $a < a_0$ there will be no roots. For when $a=a_0$ there will be one root given by $x^* = -1$."
   ]
  },
  {
   "cell_type": "markdown",
   "metadata": {},
   "source": [
    "#### Criteria for Convergence\n",
    "\n",
    "- Bisection Method\n",
    "\n",
    "    - When $w(-1)=0 \\Rightarrow$ one root exists at $x=-1$, \n",
    "        - the bisection method cannot be used due to the fact that the function value is non-negative for all values of x and cannot choose an interval with opposite signs.\n",
    "    \n",
    "    - When $w(-1) \\lt 0 \\Rightarrow$ two roots exist on either side of $x = -1$. \n",
    "        - The Bisection method would only converge if we choose the initial range such that one of the extremes is at $x = -1$.\n",
    "    \n",
    "    - When $w(-1) \\gt 0 \\Rightarrow$ no root exists and function value is always positive. \n",
    "        - So Bisection method cannot be used.\n",
    "\n",
    "\n",
    "- Newton Method\n",
    "\n",
    "    - When $w(-1)=0 \\Rightarrow$ one root exists at $x=-1$, \n",
    "        - Newtons method would converge for any initial guess other than $x=-1$. When the point is to the left of $x=-1$, $f(x)>0 \\& f^{\\prime}(x)<0$ pushing further iterations towards the root. Similarly for when the point is to the right of $x=-1$ further iterations will come closer to the root.\n",
    "    \n",
    "    - When $w(-1) \\lt 0 \\Rightarrow$ two roots exist on either side of $x = -1$. \n",
    "        - The Newtons method converges to the roots when guess is other than $x=-1$. When the initial guess is $\\lt-1$ it converges to the root to the left of $x=-1$ and when the guess is $\\gt-1$ it converges to the other root.\n",
    "    \n",
    "    - When $w(-1) \\gt 0 \\Rightarrow$ no root exists.\n",
    "        - Newtons method will not converge as no root exists.\n",
    "    \n",
    "    \n",
    "- Secant Method\n",
    "\n",
    "    - When $w(-1)=0 \\Rightarrow$ one root exists at $x=-1$,\n",
    "        - Similar to that of Newtons method. It will converge when initial guesses are towards the right or left of $x=-1. \n",
    "        \n",
    "    - When $w(-1) \\lt 0 \\Rightarrow$ two roots exist on either side of $x = -1$.\n",
    "        - It will converge to the root depending on whether the initial guesses are both either $\\lt -1$ or $\\gt -1$ to the root that is $\\lt -1$ or $\\gt -1$ respectively. When initial guesses are on either side of $x=-1$ we cannot say to which root it would converge as it depends on the function values aling the iterations.\n",
    "    \n",
    "    - When $w(-1) \\gt 0 \\Rightarrow$ no root exist.\n",
    "        - Would not converge."
   ]
  }
 ],
 "metadata": {
  "kernelspec": {
   "display_name": "Python 3",
   "language": "python",
   "name": "python3"
  },
  "language_info": {
   "codemirror_mode": {
    "name": "ipython",
    "version": 3
   },
   "file_extension": ".py",
   "mimetype": "text/x-python",
   "name": "python",
   "nbconvert_exporter": "python",
   "pygments_lexer": "ipython3",
   "version": "3.7.4"
  }
 },
 "nbformat": 4,
 "nbformat_minor": 2
}
